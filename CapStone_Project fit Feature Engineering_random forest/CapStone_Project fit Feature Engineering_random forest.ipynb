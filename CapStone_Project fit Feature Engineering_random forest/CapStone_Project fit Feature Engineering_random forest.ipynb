{
 "cells": [
  {
   "cell_type": "markdown",
   "id": "445c4a00-502f-4925-b8f7-1175a6ac71f5",
   "metadata": {},
   "source": [
    "# Problem Definition and Dataset Selection:\n",
    "# Problem:\n",
    "# To predict the overall rating of cars based on various features such as price, exterior, interior, ride quality, color, number of airbags, and fuel type. This will help in understanding which factors contribute most to the overall rating and potentially assist in car purchase decisions."
   ]
  },
  {
   "cell_type": "markdown",
   "id": "cb7b20b7-5a19-4617-8135-d22374d81242",
   "metadata": {},
   "source": [
    "# Dataset:\n",
    "# We will use a car rating dataset containing the following columns:\n",
    "\n",
    "# Index: A unique identifier for each car entry.\n",
    "# Car: The name and model of the car.\n",
    "# Price: The price range of the car.\n",
    "# Overall Rating: The overall rating given to the car.\n",
    "# Exterior: The rating of the car's exterior.\n",
    "# Interior: The rating of the car's interior.\n",
    "# Ride Quality: The rating of the car's ride quality.\n",
    "# Color: The color of the car.\n",
    "# Airbags: The number of airbags the car has.\n",
    "# Fuel type: The type of fuel the car uses (e.g., Petrol, Hybrid).\n",
    "# Price.1: Another price-related metric or an additional feature related to the car price."
   ]
  },
  {
   "cell_type": "markdown",
   "id": "43daf0d3-5920-4d21-b6f9-4a944402dee8",
   "metadata": {},
   "source": [
    "# 2. Data Preprocessing and Exploration:"
   ]
  },
  {
   "cell_type": "code",
   "execution_count": 11,
   "id": "5ed7dcb6-69ce-4650-90a7-49537012d896",
   "metadata": {},
   "outputs": [],
   "source": [
    "import pandas as pd"
   ]
  },
  {
   "cell_type": "code",
   "execution_count": 12,
   "id": "666f9acd-13e9-48df-9662-de8b87853413",
   "metadata": {},
   "outputs": [],
   "source": [
    "# Load the dataset\n",
    "dataset= pd.read_csv('Car_Rating data.csv')"
   ]
  },
  {
   "cell_type": "code",
   "execution_count": 13,
   "id": "14a30d77-511a-48ab-90b9-f91ee843197a",
   "metadata": {},
   "outputs": [
    {
     "data": {
      "text/html": [
       "<div>\n",
       "<style scoped>\n",
       "    .dataframe tbody tr th:only-of-type {\n",
       "        vertical-align: middle;\n",
       "    }\n",
       "\n",
       "    .dataframe tbody tr th {\n",
       "        vertical-align: top;\n",
       "    }\n",
       "\n",
       "    .dataframe thead th {\n",
       "        text-align: right;\n",
       "    }\n",
       "</style>\n",
       "<table border=\"1\" class=\"dataframe\">\n",
       "  <thead>\n",
       "    <tr style=\"text-align: right;\">\n",
       "      <th></th>\n",
       "      <th>Index</th>\n",
       "      <th>Car</th>\n",
       "      <th>Price</th>\n",
       "      <th>Overall Rating</th>\n",
       "      <th>Exterior</th>\n",
       "      <th>Interior</th>\n",
       "      <th>Ride Quality</th>\n",
       "      <th>Color</th>\n",
       "      <th>Airbags</th>\n",
       "      <th>Fuel type</th>\n",
       "      <th>Price.1</th>\n",
       "    </tr>\n",
       "  </thead>\n",
       "  <tbody>\n",
       "    <tr>\n",
       "      <th>0</th>\n",
       "      <td>0</td>\n",
       "      <td>Maruti Suzuki Alto K10</td>\n",
       "      <td>3.99 - 5.96 Lakh</td>\n",
       "      <td>4.4</td>\n",
       "      <td>4.4</td>\n",
       "      <td>4.4</td>\n",
       "      <td>4.4</td>\n",
       "      <td>Silver</td>\n",
       "      <td>12</td>\n",
       "      <td>Hybrid</td>\n",
       "      <td>13328</td>\n",
       "    </tr>\n",
       "    <tr>\n",
       "      <th>1</th>\n",
       "      <td>1</td>\n",
       "      <td>Maruti Suzuki Alto 800</td>\n",
       "      <td>3.25 - 5.12 Lakh</td>\n",
       "      <td>4.2</td>\n",
       "      <td>4.0</td>\n",
       "      <td>3.8</td>\n",
       "      <td>4.2</td>\n",
       "      <td>Black</td>\n",
       "      <td>8</td>\n",
       "      <td>Petrol</td>\n",
       "      <td>16621</td>\n",
       "    </tr>\n",
       "    <tr>\n",
       "      <th>2</th>\n",
       "      <td>2</td>\n",
       "      <td>Renault Kwid</td>\n",
       "      <td>4.70 - 6.45 Lakh</td>\n",
       "      <td>3.5</td>\n",
       "      <td>2.7</td>\n",
       "      <td>3.0</td>\n",
       "      <td>2.3</td>\n",
       "      <td>Black</td>\n",
       "      <td>2</td>\n",
       "      <td>Petrol</td>\n",
       "      <td>8467</td>\n",
       "    </tr>\n",
       "    <tr>\n",
       "      <th>3</th>\n",
       "      <td>3</td>\n",
       "      <td>Maruti Suzuki Alto K10</td>\n",
       "      <td>3.99 - 5.96 Lakh</td>\n",
       "      <td>4.4</td>\n",
       "      <td>4.4</td>\n",
       "      <td>4.4</td>\n",
       "      <td>4.4</td>\n",
       "      <td>White</td>\n",
       "      <td>0</td>\n",
       "      <td>Hybrid</td>\n",
       "      <td>3607</td>\n",
       "    </tr>\n",
       "    <tr>\n",
       "      <th>4</th>\n",
       "      <td>4</td>\n",
       "      <td>Maruti Suzuki Alto 800</td>\n",
       "      <td>3.25 - 5.12 Lakh</td>\n",
       "      <td>4.2</td>\n",
       "      <td>4.0</td>\n",
       "      <td>3.8</td>\n",
       "      <td>4.2</td>\n",
       "      <td>Silver</td>\n",
       "      <td>4</td>\n",
       "      <td>Petrol</td>\n",
       "      <td>11726</td>\n",
       "    </tr>\n",
       "    <tr>\n",
       "      <th>...</th>\n",
       "      <td>...</td>\n",
       "      <td>...</td>\n",
       "      <td>...</td>\n",
       "      <td>...</td>\n",
       "      <td>...</td>\n",
       "      <td>...</td>\n",
       "      <td>...</td>\n",
       "      <td>...</td>\n",
       "      <td>...</td>\n",
       "      <td>...</td>\n",
       "      <td>...</td>\n",
       "    </tr>\n",
       "    <tr>\n",
       "      <th>167</th>\n",
       "      <td>167</td>\n",
       "      <td>BMW i7</td>\n",
       "      <td>1.95 Crore</td>\n",
       "      <td>0.0</td>\n",
       "      <td>NaN</td>\n",
       "      <td>NaN</td>\n",
       "      <td>NaN</td>\n",
       "      <td>White</td>\n",
       "      <td>4</td>\n",
       "      <td>Petrol</td>\n",
       "      <td>20005</td>\n",
       "    </tr>\n",
       "    <tr>\n",
       "      <th>168</th>\n",
       "      <td>168</td>\n",
       "      <td>Land Rover Range Rover Sport</td>\n",
       "      <td>1.64 - 1.84 Crore</td>\n",
       "      <td>0.0</td>\n",
       "      <td>NaN</td>\n",
       "      <td>NaN</td>\n",
       "      <td>NaN</td>\n",
       "      <td>Silver</td>\n",
       "      <td>8</td>\n",
       "      <td>Petrol</td>\n",
       "      <td>36110</td>\n",
       "    </tr>\n",
       "    <tr>\n",
       "      <th>169</th>\n",
       "      <td>169</td>\n",
       "      <td>Aston Martin DBX</td>\n",
       "      <td>3.82 - 4.63 Crore</td>\n",
       "      <td>0.0</td>\n",
       "      <td>NaN</td>\n",
       "      <td>NaN</td>\n",
       "      <td>NaN</td>\n",
       "      <td>Blue</td>\n",
       "      <td>4</td>\n",
       "      <td>Petrol</td>\n",
       "      <td>7840</td>\n",
       "    </tr>\n",
       "    <tr>\n",
       "      <th>170</th>\n",
       "      <td>170</td>\n",
       "      <td>Porsche Macan</td>\n",
       "      <td>88.06 Lakh - 1.53 Crore</td>\n",
       "      <td>0.0</td>\n",
       "      <td>NaN</td>\n",
       "      <td>NaN</td>\n",
       "      <td>NaN</td>\n",
       "      <td>Black</td>\n",
       "      <td>12</td>\n",
       "      <td>Petrol</td>\n",
       "      <td>470</td>\n",
       "    </tr>\n",
       "    <tr>\n",
       "      <th>171</th>\n",
       "      <td>171</td>\n",
       "      <td>BMW XM</td>\n",
       "      <td>2.60 Crore</td>\n",
       "      <td>0.0</td>\n",
       "      <td>NaN</td>\n",
       "      <td>NaN</td>\n",
       "      <td>NaN</td>\n",
       "      <td>Blue</td>\n",
       "      <td>0</td>\n",
       "      <td>Petrol</td>\n",
       "      <td>1300</td>\n",
       "    </tr>\n",
       "  </tbody>\n",
       "</table>\n",
       "<p>172 rows × 11 columns</p>\n",
       "</div>"
      ],
      "text/plain": [
       "     Index                           Car                      Price  \\\n",
       "0        0        Maruti Suzuki Alto K10           3.99 - 5.96 Lakh   \n",
       "1        1        Maruti Suzuki Alto 800           3.25 - 5.12 Lakh   \n",
       "2        2                  Renault Kwid           4.70 - 6.45 Lakh   \n",
       "3        3        Maruti Suzuki Alto K10           3.99 - 5.96 Lakh   \n",
       "4        4        Maruti Suzuki Alto 800           3.25 - 5.12 Lakh   \n",
       "..     ...                           ...                        ...   \n",
       "167    167                        BMW i7                 1.95 Crore   \n",
       "168    168  Land Rover Range Rover Sport          1.64 - 1.84 Crore   \n",
       "169    169              Aston Martin DBX          3.82 - 4.63 Crore   \n",
       "170    170                 Porsche Macan    88.06 Lakh - 1.53 Crore   \n",
       "171    171                        BMW XM                 2.60 Crore   \n",
       "\n",
       "     Overall Rating  Exterior  Interior  Ride Quality   Color  Airbags  \\\n",
       "0               4.4       4.4       4.4           4.4  Silver       12   \n",
       "1               4.2       4.0       3.8           4.2   Black        8   \n",
       "2               3.5       2.7       3.0           2.3   Black        2   \n",
       "3               4.4       4.4       4.4           4.4   White        0   \n",
       "4               4.2       4.0       3.8           4.2  Silver        4   \n",
       "..              ...       ...       ...           ...     ...      ...   \n",
       "167             0.0       NaN       NaN           NaN   White        4   \n",
       "168             0.0       NaN       NaN           NaN  Silver        8   \n",
       "169             0.0       NaN       NaN           NaN    Blue        4   \n",
       "170             0.0       NaN       NaN           NaN   Black       12   \n",
       "171             0.0       NaN       NaN           NaN    Blue        0   \n",
       "\n",
       "    Fuel type  Price.1  \n",
       "0      Hybrid    13328  \n",
       "1      Petrol    16621  \n",
       "2      Petrol     8467  \n",
       "3      Hybrid     3607  \n",
       "4      Petrol    11726  \n",
       "..        ...      ...  \n",
       "167    Petrol    20005  \n",
       "168    Petrol    36110  \n",
       "169    Petrol     7840  \n",
       "170    Petrol      470  \n",
       "171    Petrol     1300  \n",
       "\n",
       "[172 rows x 11 columns]"
      ]
     },
     "execution_count": 13,
     "metadata": {},
     "output_type": "execute_result"
    }
   ],
   "source": [
    "dataset"
   ]
  },
  {
   "cell_type": "code",
   "execution_count": 28,
   "id": "ce1a650b-2269-45cc-8cd3-3a030e592602",
   "metadata": {},
   "outputs": [],
   "source": [
    "# Assuming 'dataset' is your DataFrame and you want to fill missing values in the column  with 0\n",
    "dataset[\"Exterior\"].fillna(0, inplace=True)\n",
    "dataset[\"Interior\"].fillna(0, inplace=True)\n",
    "dataset[\"Ride Quality\"].fillna(0, inplace=True)"
   ]
  },
  {
   "cell_type": "code",
   "execution_count": 29,
   "id": "b470f4cd-2e6d-457c-9174-7d1e23b8f88e",
   "metadata": {},
   "outputs": [],
   "source": [
    "# Handle missing values\n",
    "data.dropna(inplace=True)"
   ]
  },
  {
   "cell_type": "code",
   "execution_count": 30,
   "id": "acb9eeac-92e9-4e19-9e40-e3fc0d9b637b",
   "metadata": {},
   "outputs": [],
   "source": [
    "# Encode categorical variables if any\n",
    "dataset=pd.get_dummies(dataset,drop_first=True) "
   ]
  },
  {
   "cell_type": "code",
   "execution_count": 31,
   "id": "cc8251b2-bf80-404e-9f0c-efd83827a3fb",
   "metadata": {},
   "outputs": [],
   "source": [
    "# Split the data into features and target variable\n",
    "X = dataset.drop('Price.1', axis=1)\n",
    "y = dataset['Price.1']"
   ]
  },
  {
   "cell_type": "code",
   "execution_count": 32,
   "id": "21f06a5c-2b4e-4130-a166-aab0c4063ed8",
   "metadata": {},
   "outputs": [],
   "source": [
    "# Split the data into training and testing sets\n",
    "from sklearn.model_selection import train_test_split\n",
    "X_train, X_test, y_train, y_test = train_test_split(X, y, test_size=0.2, random_state=42)"
   ]
  },
  {
   "cell_type": "markdown",
   "id": "da34a8f0-fd39-4d16-9e77-9d1c1de15194",
   "metadata": {},
   "source": [
    "# 3. Feature Engineering:\n",
    "# StandardScaler before training your model. This preprocessing step helps ensure that all features have the same scale, which can be crucial for certain machine learning algorithms.\n",
    "\n",
    "# Scaling the features involves transforming them so that they have a mean of 0 and a standard deviation of 1. This is particularly important for algorithms that rely on distance metrics, such as K-Nearest Neighbors or Support Vector Machines.\n",
    "\n",
    "# By fitting the StandardScaler on the training data and then transforming both the training and test data,ata,"
   ]
  },
  {
   "cell_type": "code",
   "execution_count": 63,
   "id": "c76b084b-5f44-4951-9f46-801772444385",
   "metadata": {},
   "outputs": [],
   "source": [
    "from sklearn.preprocessing import StandardScaler\n",
    "# Scale features\n",
    "scaler = StandardScaler()\n",
    "X_train_scaled = scaler.fit_transform(X_train)\n",
    "X_test_scaled = scaler.transform(X_test)"
   ]
  },
  {
   "cell_type": "markdown",
   "id": "fede5559-5c44-494f-b783-b54f609ee9eb",
   "metadata": {},
   "source": [
    "# the target variables y_train and y_test using the reshape method. Reshaping is often necessary when dealing with data in scikit-learn, especially when the target variable is a one-dimensional array.\n",
    "\n",
    "# In this case, you're reshaping the target variables into a two-dimensional array with a single column (reshape(-1, 1)), which is a common format for target variables in scikit-learn.n."
   ]
  },
  {
   "cell_type": "code",
   "execution_count": 46,
   "id": "4cffade4-fb56-4850-8811-29fc26972e4d",
   "metadata": {},
   "outputs": [],
   "source": [
    "# Reshape y_train and y_test\n",
    "y_train_reshaped = y_train.values.reshape(-1, 1)\n",
    "y_test_reshaped = y_test.values.reshape(-1, 1)"
   ]
  },
  {
   "cell_type": "markdown",
   "id": "1006595b-7fb1-44cf-9f9a-733afc0a5510",
   "metadata": {},
   "source": [
    "# the target variables using StandardScaler. While it's common to scale features (input variables), scaling target variables is not as common in most machine learning workflows.\n",
    "\n",
    "# However, there might be specific cases where scaling the target variable could be beneficial, such as when using certain algorithms like Support Vector Machines (SVMs) or when the target variable has a wide range of values.\n",
    "\n",
    "# Just ensure that scaling the target variable aligns with the requirements of your model and the characteristics of your data. If you have specific reasons for scalingling"
   ]
  },
  {
   "cell_type": "code",
   "execution_count": 48,
   "id": "a6c8b40c-ec09-47ec-a545-df3ac8763efc",
   "metadata": {},
   "outputs": [],
   "source": [
    "# Scale features\n",
    "scaler = StandardScaler()\n",
    "y_train_scaled = scaler.fit_transform(y_train_reshaped)\n",
    "y_test_scaled = scaler.transform(y_test_reshaped)"
   ]
  },
  {
   "cell_type": "markdown",
   "id": "3ee5fb09-abf3-48fb-be33-09bfd828a1f9",
   "metadata": {},
   "source": [
    "# 4. Model Selection and Training:"
   ]
  },
  {
   "cell_type": "markdown",
   "id": "11292b94-7466-4612-b7d5-08383d855ce8",
   "metadata": {},
   "source": [
    "# initializing and training a Random Forest Classifier using the scaled features X_train_scaled and the target variable y_train. This is a common approach for training machine learning models."
   ]
  },
  {
   "cell_type": "code",
   "execution_count": 58,
   "id": "66dfeda1-3e58-4262-9613-2156558266c9",
   "metadata": {},
   "outputs": [
    {
     "data": {
      "text/html": [
       "<style>#sk-container-id-7 {color: black;background-color: white;}#sk-container-id-7 pre{padding: 0;}#sk-container-id-7 div.sk-toggleable {background-color: white;}#sk-container-id-7 label.sk-toggleable__label {cursor: pointer;display: block;width: 100%;margin-bottom: 0;padding: 0.3em;box-sizing: border-box;text-align: center;}#sk-container-id-7 label.sk-toggleable__label-arrow:before {content: \"▸\";float: left;margin-right: 0.25em;color: #696969;}#sk-container-id-7 label.sk-toggleable__label-arrow:hover:before {color: black;}#sk-container-id-7 div.sk-estimator:hover label.sk-toggleable__label-arrow:before {color: black;}#sk-container-id-7 div.sk-toggleable__content {max-height: 0;max-width: 0;overflow: hidden;text-align: left;background-color: #f0f8ff;}#sk-container-id-7 div.sk-toggleable__content pre {margin: 0.2em;color: black;border-radius: 0.25em;background-color: #f0f8ff;}#sk-container-id-7 input.sk-toggleable__control:checked~div.sk-toggleable__content {max-height: 200px;max-width: 100%;overflow: auto;}#sk-container-id-7 input.sk-toggleable__control:checked~label.sk-toggleable__label-arrow:before {content: \"▾\";}#sk-container-id-7 div.sk-estimator input.sk-toggleable__control:checked~label.sk-toggleable__label {background-color: #d4ebff;}#sk-container-id-7 div.sk-label input.sk-toggleable__control:checked~label.sk-toggleable__label {background-color: #d4ebff;}#sk-container-id-7 input.sk-hidden--visually {border: 0;clip: rect(1px 1px 1px 1px);clip: rect(1px, 1px, 1px, 1px);height: 1px;margin: -1px;overflow: hidden;padding: 0;position: absolute;width: 1px;}#sk-container-id-7 div.sk-estimator {font-family: monospace;background-color: #f0f8ff;border: 1px dotted black;border-radius: 0.25em;box-sizing: border-box;margin-bottom: 0.5em;}#sk-container-id-7 div.sk-estimator:hover {background-color: #d4ebff;}#sk-container-id-7 div.sk-parallel-item::after {content: \"\";width: 100%;border-bottom: 1px solid gray;flex-grow: 1;}#sk-container-id-7 div.sk-label:hover label.sk-toggleable__label {background-color: #d4ebff;}#sk-container-id-7 div.sk-serial::before {content: \"\";position: absolute;border-left: 1px solid gray;box-sizing: border-box;top: 0;bottom: 0;left: 50%;z-index: 0;}#sk-container-id-7 div.sk-serial {display: flex;flex-direction: column;align-items: center;background-color: white;padding-right: 0.2em;padding-left: 0.2em;position: relative;}#sk-container-id-7 div.sk-item {position: relative;z-index: 1;}#sk-container-id-7 div.sk-parallel {display: flex;align-items: stretch;justify-content: center;background-color: white;position: relative;}#sk-container-id-7 div.sk-item::before, #sk-container-id-7 div.sk-parallel-item::before {content: \"\";position: absolute;border-left: 1px solid gray;box-sizing: border-box;top: 0;bottom: 0;left: 50%;z-index: -1;}#sk-container-id-7 div.sk-parallel-item {display: flex;flex-direction: column;z-index: 1;position: relative;background-color: white;}#sk-container-id-7 div.sk-parallel-item:first-child::after {align-self: flex-end;width: 50%;}#sk-container-id-7 div.sk-parallel-item:last-child::after {align-self: flex-start;width: 50%;}#sk-container-id-7 div.sk-parallel-item:only-child::after {width: 0;}#sk-container-id-7 div.sk-dashed-wrapped {border: 1px dashed gray;margin: 0 0.4em 0.5em 0.4em;box-sizing: border-box;padding-bottom: 0.4em;background-color: white;}#sk-container-id-7 div.sk-label label {font-family: monospace;font-weight: bold;display: inline-block;line-height: 1.2em;}#sk-container-id-7 div.sk-label-container {text-align: center;}#sk-container-id-7 div.sk-container {/* jupyter's `normalize.less` sets `[hidden] { display: none; }` but bootstrap.min.css set `[hidden] { display: none !important; }` so we also need the `!important` here to be able to override the default hidden behavior on the sphinx rendered scikit-learn.org. See: https://github.com/scikit-learn/scikit-learn/issues/21755 */display: inline-block !important;position: relative;}#sk-container-id-7 div.sk-text-repr-fallback {display: none;}</style><div id=\"sk-container-id-7\" class=\"sk-top-container\"><div class=\"sk-text-repr-fallback\"><pre>RandomForestClassifier(random_state=42)</pre><b>In a Jupyter environment, please rerun this cell to show the HTML representation or trust the notebook. <br />On GitHub, the HTML representation is unable to render, please try loading this page with nbviewer.org.</b></div><div class=\"sk-container\" hidden><div class=\"sk-item\"><div class=\"sk-estimator sk-toggleable\"><input class=\"sk-toggleable__control sk-hidden--visually\" id=\"sk-estimator-id-11\" type=\"checkbox\" checked><label for=\"sk-estimator-id-11\" class=\"sk-toggleable__label sk-toggleable__label-arrow\">RandomForestClassifier</label><div class=\"sk-toggleable__content\"><pre>RandomForestClassifier(random_state=42)</pre></div></div></div></div></div>"
      ],
      "text/plain": [
       "RandomForestClassifier(random_state=42)"
      ]
     },
     "execution_count": 58,
     "metadata": {},
     "output_type": "execute_result"
    }
   ],
   "source": [
    "from sklearn.ensemble import RandomForestClassifier\n",
    "# Initialize and train a random forest classifier\n",
    "rf_classifier = RandomForestClassifier(n_estimators=100, random_state=42)\n",
    "rf_classifier.fit(X_train_scaled, y_train)"
   ]
  },
  {
   "cell_type": "markdown",
   "id": "113019cc-ee9f-4864-9d91-e6561010fdfd",
   "metadata": {},
   "source": [
    "# 5. Hyperparameter Tuning"
   ]
  },
  {
   "cell_type": "code",
   "execution_count": 50,
   "id": "7822421e-f202-4dd6-803e-cc5b4fc4217e",
   "metadata": {},
   "outputs": [],
   "source": [
    "from sklearn.model_selection import GridSearchCV\n",
    "# Define hyperparameters to tune\n",
    "param_grid = {\n",
    "    'n_estimators': [100, 200, 300],\n",
    "    'max_depth': [None, 10, 20],\n",
    "    'min_samples_split': [2, 5, 10],\n",
    "    'min_samples_leaf': [1, 2, 4]\n",
    "}\n"
   ]
  },
  {
   "cell_type": "code",
   "execution_count": 51,
   "id": "fda951a1-8be0-4e88-bb72-0d4ac824c377",
   "metadata": {},
   "outputs": [
    {
     "name": "stderr",
     "output_type": "stream",
     "text": [
      "C:\\Users\\ragus\\anaconda3\\Lib\\site-packages\\sklearn\\model_selection\\_split.py:700: UserWarning: The least populated class in y has only 1 members, which is less than n_splits=5.\n",
      "  warnings.warn(\n"
     ]
    },
    {
     "data": {
      "text/html": [
       "<style>#sk-container-id-5 {color: black;background-color: white;}#sk-container-id-5 pre{padding: 0;}#sk-container-id-5 div.sk-toggleable {background-color: white;}#sk-container-id-5 label.sk-toggleable__label {cursor: pointer;display: block;width: 100%;margin-bottom: 0;padding: 0.3em;box-sizing: border-box;text-align: center;}#sk-container-id-5 label.sk-toggleable__label-arrow:before {content: \"▸\";float: left;margin-right: 0.25em;color: #696969;}#sk-container-id-5 label.sk-toggleable__label-arrow:hover:before {color: black;}#sk-container-id-5 div.sk-estimator:hover label.sk-toggleable__label-arrow:before {color: black;}#sk-container-id-5 div.sk-toggleable__content {max-height: 0;max-width: 0;overflow: hidden;text-align: left;background-color: #f0f8ff;}#sk-container-id-5 div.sk-toggleable__content pre {margin: 0.2em;color: black;border-radius: 0.25em;background-color: #f0f8ff;}#sk-container-id-5 input.sk-toggleable__control:checked~div.sk-toggleable__content {max-height: 200px;max-width: 100%;overflow: auto;}#sk-container-id-5 input.sk-toggleable__control:checked~label.sk-toggleable__label-arrow:before {content: \"▾\";}#sk-container-id-5 div.sk-estimator input.sk-toggleable__control:checked~label.sk-toggleable__label {background-color: #d4ebff;}#sk-container-id-5 div.sk-label input.sk-toggleable__control:checked~label.sk-toggleable__label {background-color: #d4ebff;}#sk-container-id-5 input.sk-hidden--visually {border: 0;clip: rect(1px 1px 1px 1px);clip: rect(1px, 1px, 1px, 1px);height: 1px;margin: -1px;overflow: hidden;padding: 0;position: absolute;width: 1px;}#sk-container-id-5 div.sk-estimator {font-family: monospace;background-color: #f0f8ff;border: 1px dotted black;border-radius: 0.25em;box-sizing: border-box;margin-bottom: 0.5em;}#sk-container-id-5 div.sk-estimator:hover {background-color: #d4ebff;}#sk-container-id-5 div.sk-parallel-item::after {content: \"\";width: 100%;border-bottom: 1px solid gray;flex-grow: 1;}#sk-container-id-5 div.sk-label:hover label.sk-toggleable__label {background-color: #d4ebff;}#sk-container-id-5 div.sk-serial::before {content: \"\";position: absolute;border-left: 1px solid gray;box-sizing: border-box;top: 0;bottom: 0;left: 50%;z-index: 0;}#sk-container-id-5 div.sk-serial {display: flex;flex-direction: column;align-items: center;background-color: white;padding-right: 0.2em;padding-left: 0.2em;position: relative;}#sk-container-id-5 div.sk-item {position: relative;z-index: 1;}#sk-container-id-5 div.sk-parallel {display: flex;align-items: stretch;justify-content: center;background-color: white;position: relative;}#sk-container-id-5 div.sk-item::before, #sk-container-id-5 div.sk-parallel-item::before {content: \"\";position: absolute;border-left: 1px solid gray;box-sizing: border-box;top: 0;bottom: 0;left: 50%;z-index: -1;}#sk-container-id-5 div.sk-parallel-item {display: flex;flex-direction: column;z-index: 1;position: relative;background-color: white;}#sk-container-id-5 div.sk-parallel-item:first-child::after {align-self: flex-end;width: 50%;}#sk-container-id-5 div.sk-parallel-item:last-child::after {align-self: flex-start;width: 50%;}#sk-container-id-5 div.sk-parallel-item:only-child::after {width: 0;}#sk-container-id-5 div.sk-dashed-wrapped {border: 1px dashed gray;margin: 0 0.4em 0.5em 0.4em;box-sizing: border-box;padding-bottom: 0.4em;background-color: white;}#sk-container-id-5 div.sk-label label {font-family: monospace;font-weight: bold;display: inline-block;line-height: 1.2em;}#sk-container-id-5 div.sk-label-container {text-align: center;}#sk-container-id-5 div.sk-container {/* jupyter's `normalize.less` sets `[hidden] { display: none; }` but bootstrap.min.css set `[hidden] { display: none !important; }` so we also need the `!important` here to be able to override the default hidden behavior on the sphinx rendered scikit-learn.org. See: https://github.com/scikit-learn/scikit-learn/issues/21755 */display: inline-block !important;position: relative;}#sk-container-id-5 div.sk-text-repr-fallback {display: none;}</style><div id=\"sk-container-id-5\" class=\"sk-top-container\"><div class=\"sk-text-repr-fallback\"><pre>GridSearchCV(cv=5, estimator=RandomForestClassifier(random_state=42),\n",
       "             param_grid={&#x27;max_depth&#x27;: [None, 10, 20],\n",
       "                         &#x27;min_samples_leaf&#x27;: [1, 2, 4],\n",
       "                         &#x27;min_samples_split&#x27;: [2, 5, 10],\n",
       "                         &#x27;n_estimators&#x27;: [100, 200, 300]})</pre><b>In a Jupyter environment, please rerun this cell to show the HTML representation or trust the notebook. <br />On GitHub, the HTML representation is unable to render, please try loading this page with nbviewer.org.</b></div><div class=\"sk-container\" hidden><div class=\"sk-item sk-dashed-wrapped\"><div class=\"sk-label-container\"><div class=\"sk-label sk-toggleable\"><input class=\"sk-toggleable__control sk-hidden--visually\" id=\"sk-estimator-id-7\" type=\"checkbox\" ><label for=\"sk-estimator-id-7\" class=\"sk-toggleable__label sk-toggleable__label-arrow\">GridSearchCV</label><div class=\"sk-toggleable__content\"><pre>GridSearchCV(cv=5, estimator=RandomForestClassifier(random_state=42),\n",
       "             param_grid={&#x27;max_depth&#x27;: [None, 10, 20],\n",
       "                         &#x27;min_samples_leaf&#x27;: [1, 2, 4],\n",
       "                         &#x27;min_samples_split&#x27;: [2, 5, 10],\n",
       "                         &#x27;n_estimators&#x27;: [100, 200, 300]})</pre></div></div></div><div class=\"sk-parallel\"><div class=\"sk-parallel-item\"><div class=\"sk-item\"><div class=\"sk-label-container\"><div class=\"sk-label sk-toggleable\"><input class=\"sk-toggleable__control sk-hidden--visually\" id=\"sk-estimator-id-8\" type=\"checkbox\" ><label for=\"sk-estimator-id-8\" class=\"sk-toggleable__label sk-toggleable__label-arrow\">estimator: RandomForestClassifier</label><div class=\"sk-toggleable__content\"><pre>RandomForestClassifier(random_state=42)</pre></div></div></div><div class=\"sk-serial\"><div class=\"sk-item\"><div class=\"sk-estimator sk-toggleable\"><input class=\"sk-toggleable__control sk-hidden--visually\" id=\"sk-estimator-id-9\" type=\"checkbox\" ><label for=\"sk-estimator-id-9\" class=\"sk-toggleable__label sk-toggleable__label-arrow\">RandomForestClassifier</label><div class=\"sk-toggleable__content\"><pre>RandomForestClassifier(random_state=42)</pre></div></div></div></div></div></div></div></div></div></div>"
      ],
      "text/plain": [
       "GridSearchCV(cv=5, estimator=RandomForestClassifier(random_state=42),\n",
       "             param_grid={'max_depth': [None, 10, 20],\n",
       "                         'min_samples_leaf': [1, 2, 4],\n",
       "                         'min_samples_split': [2, 5, 10],\n",
       "                         'n_estimators': [100, 200, 300]})"
      ]
     },
     "execution_count": 51,
     "metadata": {},
     "output_type": "execute_result"
    }
   ],
   "source": [
    "# Perform grid search cross-validation\n",
    "grid_search = GridSearchCV(estimator=rf_classifier, param_grid=param_grid, cv=5)\n",
    "grid_search.fit(X_train_scaled, y_train)\n"
   ]
  },
  {
   "cell_type": "code",
   "execution_count": 52,
   "id": "3438a95a-f2ff-47a3-acbe-2a792ececf92",
   "metadata": {},
   "outputs": [],
   "source": [
    "# Get the best hyperparameters\n",
    "best_params = grid_search.best_params_\n"
   ]
  },
  {
   "cell_type": "code",
   "execution_count": 53,
   "id": "d579244b-2612-4997-8fb5-b3233141c301",
   "metadata": {},
   "outputs": [
    {
     "data": {
      "text/html": [
       "<style>#sk-container-id-6 {color: black;background-color: white;}#sk-container-id-6 pre{padding: 0;}#sk-container-id-6 div.sk-toggleable {background-color: white;}#sk-container-id-6 label.sk-toggleable__label {cursor: pointer;display: block;width: 100%;margin-bottom: 0;padding: 0.3em;box-sizing: border-box;text-align: center;}#sk-container-id-6 label.sk-toggleable__label-arrow:before {content: \"▸\";float: left;margin-right: 0.25em;color: #696969;}#sk-container-id-6 label.sk-toggleable__label-arrow:hover:before {color: black;}#sk-container-id-6 div.sk-estimator:hover label.sk-toggleable__label-arrow:before {color: black;}#sk-container-id-6 div.sk-toggleable__content {max-height: 0;max-width: 0;overflow: hidden;text-align: left;background-color: #f0f8ff;}#sk-container-id-6 div.sk-toggleable__content pre {margin: 0.2em;color: black;border-radius: 0.25em;background-color: #f0f8ff;}#sk-container-id-6 input.sk-toggleable__control:checked~div.sk-toggleable__content {max-height: 200px;max-width: 100%;overflow: auto;}#sk-container-id-6 input.sk-toggleable__control:checked~label.sk-toggleable__label-arrow:before {content: \"▾\";}#sk-container-id-6 div.sk-estimator input.sk-toggleable__control:checked~label.sk-toggleable__label {background-color: #d4ebff;}#sk-container-id-6 div.sk-label input.sk-toggleable__control:checked~label.sk-toggleable__label {background-color: #d4ebff;}#sk-container-id-6 input.sk-hidden--visually {border: 0;clip: rect(1px 1px 1px 1px);clip: rect(1px, 1px, 1px, 1px);height: 1px;margin: -1px;overflow: hidden;padding: 0;position: absolute;width: 1px;}#sk-container-id-6 div.sk-estimator {font-family: monospace;background-color: #f0f8ff;border: 1px dotted black;border-radius: 0.25em;box-sizing: border-box;margin-bottom: 0.5em;}#sk-container-id-6 div.sk-estimator:hover {background-color: #d4ebff;}#sk-container-id-6 div.sk-parallel-item::after {content: \"\";width: 100%;border-bottom: 1px solid gray;flex-grow: 1;}#sk-container-id-6 div.sk-label:hover label.sk-toggleable__label {background-color: #d4ebff;}#sk-container-id-6 div.sk-serial::before {content: \"\";position: absolute;border-left: 1px solid gray;box-sizing: border-box;top: 0;bottom: 0;left: 50%;z-index: 0;}#sk-container-id-6 div.sk-serial {display: flex;flex-direction: column;align-items: center;background-color: white;padding-right: 0.2em;padding-left: 0.2em;position: relative;}#sk-container-id-6 div.sk-item {position: relative;z-index: 1;}#sk-container-id-6 div.sk-parallel {display: flex;align-items: stretch;justify-content: center;background-color: white;position: relative;}#sk-container-id-6 div.sk-item::before, #sk-container-id-6 div.sk-parallel-item::before {content: \"\";position: absolute;border-left: 1px solid gray;box-sizing: border-box;top: 0;bottom: 0;left: 50%;z-index: -1;}#sk-container-id-6 div.sk-parallel-item {display: flex;flex-direction: column;z-index: 1;position: relative;background-color: white;}#sk-container-id-6 div.sk-parallel-item:first-child::after {align-self: flex-end;width: 50%;}#sk-container-id-6 div.sk-parallel-item:last-child::after {align-self: flex-start;width: 50%;}#sk-container-id-6 div.sk-parallel-item:only-child::after {width: 0;}#sk-container-id-6 div.sk-dashed-wrapped {border: 1px dashed gray;margin: 0 0.4em 0.5em 0.4em;box-sizing: border-box;padding-bottom: 0.4em;background-color: white;}#sk-container-id-6 div.sk-label label {font-family: monospace;font-weight: bold;display: inline-block;line-height: 1.2em;}#sk-container-id-6 div.sk-label-container {text-align: center;}#sk-container-id-6 div.sk-container {/* jupyter's `normalize.less` sets `[hidden] { display: none; }` but bootstrap.min.css set `[hidden] { display: none !important; }` so we also need the `!important` here to be able to override the default hidden behavior on the sphinx rendered scikit-learn.org. See: https://github.com/scikit-learn/scikit-learn/issues/21755 */display: inline-block !important;position: relative;}#sk-container-id-6 div.sk-text-repr-fallback {display: none;}</style><div id=\"sk-container-id-6\" class=\"sk-top-container\"><div class=\"sk-text-repr-fallback\"><pre>RandomForestClassifier(min_samples_leaf=4, n_estimators=200)</pre><b>In a Jupyter environment, please rerun this cell to show the HTML representation or trust the notebook. <br />On GitHub, the HTML representation is unable to render, please try loading this page with nbviewer.org.</b></div><div class=\"sk-container\" hidden><div class=\"sk-item\"><div class=\"sk-estimator sk-toggleable\"><input class=\"sk-toggleable__control sk-hidden--visually\" id=\"sk-estimator-id-10\" type=\"checkbox\" checked><label for=\"sk-estimator-id-10\" class=\"sk-toggleable__label sk-toggleable__label-arrow\">RandomForestClassifier</label><div class=\"sk-toggleable__content\"><pre>RandomForestClassifier(min_samples_leaf=4, n_estimators=200)</pre></div></div></div></div></div>"
      ],
      "text/plain": [
       "RandomForestClassifier(min_samples_leaf=4, n_estimators=200)"
      ]
     },
     "execution_count": 53,
     "metadata": {},
     "output_type": "execute_result"
    }
   ],
   "source": [
    "# Train the model with the best hyperparameters\n",
    "best_rf_classifier = RandomForestClassifier(**best_params)\n",
    "best_rf_classifier.fit(X_train_scaled, y_train)"
   ]
  },
  {
   "cell_type": "markdown",
   "id": "d8495bdd-afdb-43eb-87d2-b6707ea9e598",
   "metadata": {},
   "source": [
    "# 6. *Model Evaluation*:"
   ]
  },
  {
   "cell_type": "code",
   "execution_count": 54,
   "id": "9f607d09-7902-488b-beca-442a0578b417",
   "metadata": {},
   "outputs": [],
   "source": [
    "# python\n",
    "from sklearn.metrics import accuracy_score, classification_report"
   ]
  },
  {
   "cell_type": "code",
   "execution_count": 55,
   "id": "2e639ed3-bb19-4f7e-83ae-62e183846c20",
   "metadata": {},
   "outputs": [],
   "source": [
    "# Predict on the test set\n",
    "y_pred = best_rf_classifier.predict(X_test_scaled)"
   ]
  },
  {
   "cell_type": "markdown",
   "id": "4bda8c4a-5816-4805-8640-96099dc8c1e2",
   "metadata": {},
   "source": [
    "# Model Evaluation\n",
    "# Accuracy\n",
    "# Accuracy Score: 0.057\n",
    "# The accuracy score represents the proportion of correctly classified samples out of the total samples.\n",
    " # In this case, the accuracy score indicates that the model correctly predicted the target variable for approximately 5.7% of the test samples.les."
   ]
  },
  {
   "cell_type": "code",
   "execution_count": 56,
   "id": "9df36118-8c55-468e-820c-b0eb6d833740",
   "metadata": {},
   "outputs": [
    {
     "name": "stdout",
     "output_type": "stream",
     "text": [
      "Accuracy: 0.05714285714285714\n"
     ]
    }
   ],
   "source": [
    "# Evaluate accuracy\n",
    "accuracy = accuracy_score(y_test, y_pred)\n",
    "print(\"Accuracy:\", accuracy)"
   ]
  },
  {
   "cell_type": "code",
   "execution_count": 57,
   "id": "2cbb087e-9f02-476e-8ac3-9a302d26c8f9",
   "metadata": {},
   "outputs": [
    {
     "name": "stdout",
     "output_type": "stream",
     "text": [
      "Classification Report:\n",
      "              precision    recall  f1-score   support\n",
      "\n",
      "         314       0.00      0.00      0.00         1\n",
      "         549       0.06      1.00      0.11         2\n",
      "         627       0.00      0.00      0.00         1\n",
      "         706       0.00      0.00      0.00         1\n",
      "         862       0.00      0.00      0.00         1\n",
      "         941       0.00      0.00      0.00         1\n",
      "        1019       0.00      0.00      0.00         1\n",
      "        3000       0.00      0.00      0.00         1\n",
      "        3763       0.00      0.00      0.00         1\n",
      "        4547       0.00      0.00      0.00         1\n",
      "        4704       0.00      0.00      0.00         1\n",
      "        7683       0.00      0.00      0.00         1\n",
      "        8781       0.00      0.00      0.00         1\n",
      "       12074       0.00      0.00      0.00         1\n",
      "       12231       0.00      0.00      0.00         1\n",
      "       12858       0.00      0.00      0.00         1\n",
      "       15681       0.00      0.00      0.00         2\n",
      "       16935       0.00      0.00      0.00         2\n",
      "       17158       0.00      0.00      0.00         1\n",
      "       18817       0.00      0.00      0.00         1\n",
      "       19121       0.00      0.00      0.00         2\n",
      "       19444       0.00      0.00      0.00         1\n",
      "       21169       0.00      0.00      0.00         1\n",
      "       22580       0.00      0.00      0.00         1\n",
      "       23521       0.00      0.00      0.00         0\n",
      "       26657       0.00      0.00      0.00         2\n",
      "       36065       0.00      0.00      0.00         1\n",
      "       36110       0.00      0.00      0.00         1\n",
      "       42337       0.00      0.00      0.00         1\n",
      "       45734       0.00      0.00      0.00         1\n",
      "       77775       0.00      0.00      0.00         1\n",
      "\n",
      "    accuracy                           0.06        35\n",
      "   macro avg       0.00      0.03      0.00        35\n",
      "weighted avg       0.00      0.06      0.01        35\n",
      "\n"
     ]
    },
    {
     "name": "stderr",
     "output_type": "stream",
     "text": [
      "C:\\Users\\ragus\\anaconda3\\Lib\\site-packages\\sklearn\\metrics\\_classification.py:1344: UndefinedMetricWarning: Precision and F-score are ill-defined and being set to 0.0 in labels with no predicted samples. Use `zero_division` parameter to control this behavior.\n",
      "  _warn_prf(average, modifier, msg_start, len(result))\n",
      "C:\\Users\\ragus\\anaconda3\\Lib\\site-packages\\sklearn\\metrics\\_classification.py:1344: UndefinedMetricWarning: Recall and F-score are ill-defined and being set to 0.0 in labels with no true samples. Use `zero_division` parameter to control this behavior.\n",
      "  _warn_prf(average, modifier, msg_start, len(result))\n",
      "C:\\Users\\ragus\\anaconda3\\Lib\\site-packages\\sklearn\\metrics\\_classification.py:1344: UndefinedMetricWarning: Precision and F-score are ill-defined and being set to 0.0 in labels with no predicted samples. Use `zero_division` parameter to control this behavior.\n",
      "  _warn_prf(average, modifier, msg_start, len(result))\n",
      "C:\\Users\\ragus\\anaconda3\\Lib\\site-packages\\sklearn\\metrics\\_classification.py:1344: UndefinedMetricWarning: Recall and F-score are ill-defined and being set to 0.0 in labels with no true samples. Use `zero_division` parameter to control this behavior.\n",
      "  _warn_prf(average, modifier, msg_start, len(result))\n",
      "C:\\Users\\ragus\\anaconda3\\Lib\\site-packages\\sklearn\\metrics\\_classification.py:1344: UndefinedMetricWarning: Precision and F-score are ill-defined and being set to 0.0 in labels with no predicted samples. Use `zero_division` parameter to control this behavior.\n",
      "  _warn_prf(average, modifier, msg_start, len(result))\n",
      "C:\\Users\\ragus\\anaconda3\\Lib\\site-packages\\sklearn\\metrics\\_classification.py:1344: UndefinedMetricWarning: Recall and F-score are ill-defined and being set to 0.0 in labels with no true samples. Use `zero_division` parameter to control this behavior.\n",
      "  _warn_prf(average, modifier, msg_start, len(result))\n"
     ]
    }
   ],
   "source": [
    "# Generate classification report\n",
    "print(\"Classification Report:\")\n",
    "print(classification_report(y_test, y_pred))"
   ]
  },
  {
   "cell_type": "markdown",
   "id": "d87f08a6-89d6-44e7-8401-96c9c62efecb",
   "metadata": {},
   "source": [
    "# Classification Report\n",
    "# The classification report provides a detailed summary of the model's performance on each class.\n",
    "# Precision: Indicates the proportion of true positive predictions out of all positive predictions.\n",
    "# Recall: Represents the proportion of true positive predictions out of all actual positives.\n",
    "# F1-score: Harmonic mean of precision and recall, providing a balance between the two metrics.\n",
    "# Support: Number of actual occurrences of the class in the test set.\n",
    "# Metrics Overview\n",
    "# Accuracy: 0.06\n",
    "# Macro Average F1-score: 0.00\n",
    "# Weighted Average F1-score: 0.01\n",
    "re: 0.01\r\n"
   ]
  },
  {
   "cell_type": "code",
   "execution_count": null,
   "id": "0a29e4e9-0101-48ca-8422-338c507213d3",
   "metadata": {},
   "outputs": [],
   "source": []
  }
 ],
 "metadata": {
  "kernelspec": {
   "display_name": "Python 3 (ipykernel)",
   "language": "python",
   "name": "python3"
  },
  "language_info": {
   "codemirror_mode": {
    "name": "ipython",
    "version": 3
   },
   "file_extension": ".py",
   "mimetype": "text/x-python",
   "name": "python",
   "nbconvert_exporter": "python",
   "pygments_lexer": "ipython3",
   "version": "3.11.5"
  }
 },
 "nbformat": 4,
 "nbformat_minor": 5
}
