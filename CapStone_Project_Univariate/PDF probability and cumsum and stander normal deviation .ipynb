{
 "cells": [
  {
   "cell_type": "code",
   "execution_count": 3,
   "id": "b8ebbd65-d2a9-4b92-b6a1-2e24702e6fd0",
   "metadata": {},
   "outputs": [],
   "source": [
    "import pandas as pd\n",
    "import seaborn as sns"
   ]
  },
  {
   "cell_type": "code",
   "execution_count": 4,
   "id": "87781795-665c-4d64-a5d5-4a4a5ff8a1f3",
   "metadata": {},
   "outputs": [],
   "source": [
    "dataset=pd.read_csv(\"Car_Rating data.csv\")"
   ]
  },
  {
   "cell_type": "code",
   "execution_count": 5,
   "id": "e585e28e-fdd6-4a54-ada0-4c8132ce5155",
   "metadata": {},
   "outputs": [
    {
     "data": {
      "text/html": [
       "<div>\n",
       "<style scoped>\n",
       "    .dataframe tbody tr th:only-of-type {\n",
       "        vertical-align: middle;\n",
       "    }\n",
       "\n",
       "    .dataframe tbody tr th {\n",
       "        vertical-align: top;\n",
       "    }\n",
       "\n",
       "    .dataframe thead th {\n",
       "        text-align: right;\n",
       "    }\n",
       "</style>\n",
       "<table border=\"1\" class=\"dataframe\">\n",
       "  <thead>\n",
       "    <tr style=\"text-align: right;\">\n",
       "      <th></th>\n",
       "      <th>Index</th>\n",
       "      <th>Car</th>\n",
       "      <th>Price</th>\n",
       "      <th>Overall Rating</th>\n",
       "      <th>Exterior</th>\n",
       "      <th>Interior</th>\n",
       "      <th>Ride Quality</th>\n",
       "      <th>Color</th>\n",
       "      <th>Airbags</th>\n",
       "      <th>Fuel type</th>\n",
       "      <th>Price.1</th>\n",
       "    </tr>\n",
       "  </thead>\n",
       "  <tbody>\n",
       "    <tr>\n",
       "      <th>0</th>\n",
       "      <td>0</td>\n",
       "      <td>Maruti Suzuki Alto K10</td>\n",
       "      <td>3.99 - 5.96 Lakh</td>\n",
       "      <td>4.4</td>\n",
       "      <td>4.4</td>\n",
       "      <td>4.4</td>\n",
       "      <td>4.4</td>\n",
       "      <td>Silver</td>\n",
       "      <td>12</td>\n",
       "      <td>Hybrid</td>\n",
       "      <td>13328</td>\n",
       "    </tr>\n",
       "    <tr>\n",
       "      <th>1</th>\n",
       "      <td>1</td>\n",
       "      <td>Maruti Suzuki Alto 800</td>\n",
       "      <td>3.25 - 5.12 Lakh</td>\n",
       "      <td>4.2</td>\n",
       "      <td>4.0</td>\n",
       "      <td>3.8</td>\n",
       "      <td>4.2</td>\n",
       "      <td>Black</td>\n",
       "      <td>8</td>\n",
       "      <td>Petrol</td>\n",
       "      <td>16621</td>\n",
       "    </tr>\n",
       "    <tr>\n",
       "      <th>2</th>\n",
       "      <td>2</td>\n",
       "      <td>Renault Kwid</td>\n",
       "      <td>4.70 - 6.45 Lakh</td>\n",
       "      <td>3.5</td>\n",
       "      <td>2.7</td>\n",
       "      <td>3.0</td>\n",
       "      <td>2.3</td>\n",
       "      <td>Black</td>\n",
       "      <td>2</td>\n",
       "      <td>Petrol</td>\n",
       "      <td>8467</td>\n",
       "    </tr>\n",
       "    <tr>\n",
       "      <th>3</th>\n",
       "      <td>3</td>\n",
       "      <td>Maruti Suzuki Alto K10</td>\n",
       "      <td>3.99 - 5.96 Lakh</td>\n",
       "      <td>4.4</td>\n",
       "      <td>4.4</td>\n",
       "      <td>4.4</td>\n",
       "      <td>4.4</td>\n",
       "      <td>White</td>\n",
       "      <td>0</td>\n",
       "      <td>Hybrid</td>\n",
       "      <td>3607</td>\n",
       "    </tr>\n",
       "    <tr>\n",
       "      <th>4</th>\n",
       "      <td>4</td>\n",
       "      <td>Maruti Suzuki Alto 800</td>\n",
       "      <td>3.25 - 5.12 Lakh</td>\n",
       "      <td>4.2</td>\n",
       "      <td>4.0</td>\n",
       "      <td>3.8</td>\n",
       "      <td>4.2</td>\n",
       "      <td>Silver</td>\n",
       "      <td>4</td>\n",
       "      <td>Petrol</td>\n",
       "      <td>11726</td>\n",
       "    </tr>\n",
       "    <tr>\n",
       "      <th>...</th>\n",
       "      <td>...</td>\n",
       "      <td>...</td>\n",
       "      <td>...</td>\n",
       "      <td>...</td>\n",
       "      <td>...</td>\n",
       "      <td>...</td>\n",
       "      <td>...</td>\n",
       "      <td>...</td>\n",
       "      <td>...</td>\n",
       "      <td>...</td>\n",
       "      <td>...</td>\n",
       "    </tr>\n",
       "    <tr>\n",
       "      <th>167</th>\n",
       "      <td>167</td>\n",
       "      <td>BMW i7</td>\n",
       "      <td>1.95 Crore</td>\n",
       "      <td>0.0</td>\n",
       "      <td>NaN</td>\n",
       "      <td>NaN</td>\n",
       "      <td>NaN</td>\n",
       "      <td>White</td>\n",
       "      <td>4</td>\n",
       "      <td>Petrol</td>\n",
       "      <td>20005</td>\n",
       "    </tr>\n",
       "    <tr>\n",
       "      <th>168</th>\n",
       "      <td>168</td>\n",
       "      <td>Land Rover Range Rover Sport</td>\n",
       "      <td>1.64 - 1.84 Crore</td>\n",
       "      <td>0.0</td>\n",
       "      <td>NaN</td>\n",
       "      <td>NaN</td>\n",
       "      <td>NaN</td>\n",
       "      <td>Silver</td>\n",
       "      <td>8</td>\n",
       "      <td>Petrol</td>\n",
       "      <td>36110</td>\n",
       "    </tr>\n",
       "    <tr>\n",
       "      <th>169</th>\n",
       "      <td>169</td>\n",
       "      <td>Aston Martin DBX</td>\n",
       "      <td>3.82 - 4.63 Crore</td>\n",
       "      <td>0.0</td>\n",
       "      <td>NaN</td>\n",
       "      <td>NaN</td>\n",
       "      <td>NaN</td>\n",
       "      <td>Blue</td>\n",
       "      <td>4</td>\n",
       "      <td>Petrol</td>\n",
       "      <td>7840</td>\n",
       "    </tr>\n",
       "    <tr>\n",
       "      <th>170</th>\n",
       "      <td>170</td>\n",
       "      <td>Porsche Macan</td>\n",
       "      <td>88.06 Lakh - 1.53 Crore</td>\n",
       "      <td>0.0</td>\n",
       "      <td>NaN</td>\n",
       "      <td>NaN</td>\n",
       "      <td>NaN</td>\n",
       "      <td>Black</td>\n",
       "      <td>12</td>\n",
       "      <td>Petrol</td>\n",
       "      <td>470</td>\n",
       "    </tr>\n",
       "    <tr>\n",
       "      <th>171</th>\n",
       "      <td>171</td>\n",
       "      <td>BMW XM</td>\n",
       "      <td>2.60 Crore</td>\n",
       "      <td>0.0</td>\n",
       "      <td>NaN</td>\n",
       "      <td>NaN</td>\n",
       "      <td>NaN</td>\n",
       "      <td>Blue</td>\n",
       "      <td>0</td>\n",
       "      <td>Petrol</td>\n",
       "      <td>1300</td>\n",
       "    </tr>\n",
       "  </tbody>\n",
       "</table>\n",
       "<p>172 rows × 11 columns</p>\n",
       "</div>"
      ],
      "text/plain": [
       "     Index                           Car                      Price  \\\n",
       "0        0        Maruti Suzuki Alto K10           3.99 - 5.96 Lakh   \n",
       "1        1        Maruti Suzuki Alto 800           3.25 - 5.12 Lakh   \n",
       "2        2                  Renault Kwid           4.70 - 6.45 Lakh   \n",
       "3        3        Maruti Suzuki Alto K10           3.99 - 5.96 Lakh   \n",
       "4        4        Maruti Suzuki Alto 800           3.25 - 5.12 Lakh   \n",
       "..     ...                           ...                        ...   \n",
       "167    167                        BMW i7                 1.95 Crore   \n",
       "168    168  Land Rover Range Rover Sport          1.64 - 1.84 Crore   \n",
       "169    169              Aston Martin DBX          3.82 - 4.63 Crore   \n",
       "170    170                 Porsche Macan    88.06 Lakh - 1.53 Crore   \n",
       "171    171                        BMW XM                 2.60 Crore   \n",
       "\n",
       "     Overall Rating  Exterior  Interior  Ride Quality   Color  Airbags  \\\n",
       "0               4.4       4.4       4.4           4.4  Silver       12   \n",
       "1               4.2       4.0       3.8           4.2   Black        8   \n",
       "2               3.5       2.7       3.0           2.3   Black        2   \n",
       "3               4.4       4.4       4.4           4.4   White        0   \n",
       "4               4.2       4.0       3.8           4.2  Silver        4   \n",
       "..              ...       ...       ...           ...     ...      ...   \n",
       "167             0.0       NaN       NaN           NaN   White        4   \n",
       "168             0.0       NaN       NaN           NaN  Silver        8   \n",
       "169             0.0       NaN       NaN           NaN    Blue        4   \n",
       "170             0.0       NaN       NaN           NaN   Black       12   \n",
       "171             0.0       NaN       NaN           NaN    Blue        0   \n",
       "\n",
       "    Fuel type  Price.1  \n",
       "0      Hybrid    13328  \n",
       "1      Petrol    16621  \n",
       "2      Petrol     8467  \n",
       "3      Hybrid     3607  \n",
       "4      Petrol    11726  \n",
       "..        ...      ...  \n",
       "167    Petrol    20005  \n",
       "168    Petrol    36110  \n",
       "169    Petrol     7840  \n",
       "170    Petrol      470  \n",
       "171    Petrol     1300  \n",
       "\n",
       "[172 rows x 11 columns]"
      ]
     },
     "execution_count": 5,
     "metadata": {},
     "output_type": "execute_result"
    }
   ],
   "source": [
    "dataset"
   ]
  },
  {
   "cell_type": "code",
   "execution_count": 6,
   "id": "942a6459-41a8-46f2-83c2-8cde7c5599b6",
   "metadata": {},
   "outputs": [
    {
     "data": {
      "text/plain": [
       "Index              0\n",
       "Car                0\n",
       "Price              0\n",
       "Overall Rating     0\n",
       "Exterior          59\n",
       "Interior          59\n",
       "Ride Quality      59\n",
       "Color              0\n",
       "Airbags            0\n",
       "Fuel type          0\n",
       "Price.1            0\n",
       "dtype: int64"
      ]
     },
     "execution_count": 6,
     "metadata": {},
     "output_type": "execute_result"
    }
   ],
   "source": [
    "dataset.isnull().sum()"
   ]
  },
  {
   "cell_type": "code",
   "execution_count": 7,
   "id": "1ffca340-de9d-4ae1-af05-2f10e5868b7d",
   "metadata": {},
   "outputs": [],
   "source": [
    "# Assuming 'dataset' is your DataFrame and you want to fill missing values in the column  with 0\n",
    "dataset[\"Exterior\"].fillna(0, inplace=True)\n",
    "dataset[\"Interior\"].fillna(0, inplace=True)\n",
    "dataset[\"Ride Quality\"].fillna(0, inplace=True)"
   ]
  },
  {
   "cell_type": "code",
   "execution_count": 8,
   "id": "fc453243-d7e2-4865-b03c-fe8e669e8f6a",
   "metadata": {},
   "outputs": [
    {
     "data": {
      "text/html": [
       "<div>\n",
       "<style scoped>\n",
       "    .dataframe tbody tr th:only-of-type {\n",
       "        vertical-align: middle;\n",
       "    }\n",
       "\n",
       "    .dataframe tbody tr th {\n",
       "        vertical-align: top;\n",
       "    }\n",
       "\n",
       "    .dataframe thead th {\n",
       "        text-align: right;\n",
       "    }\n",
       "</style>\n",
       "<table border=\"1\" class=\"dataframe\">\n",
       "  <thead>\n",
       "    <tr style=\"text-align: right;\">\n",
       "      <th></th>\n",
       "      <th>Index</th>\n",
       "      <th>Car</th>\n",
       "      <th>Price</th>\n",
       "      <th>Overall Rating</th>\n",
       "      <th>Exterior</th>\n",
       "      <th>Interior</th>\n",
       "      <th>Ride Quality</th>\n",
       "      <th>Color</th>\n",
       "      <th>Airbags</th>\n",
       "      <th>Fuel type</th>\n",
       "      <th>Price.1</th>\n",
       "    </tr>\n",
       "  </thead>\n",
       "  <tbody>\n",
       "    <tr>\n",
       "      <th>0</th>\n",
       "      <td>0</td>\n",
       "      <td>Maruti Suzuki Alto K10</td>\n",
       "      <td>3.99 - 5.96 Lakh</td>\n",
       "      <td>4.4</td>\n",
       "      <td>4.4</td>\n",
       "      <td>4.4</td>\n",
       "      <td>4.4</td>\n",
       "      <td>Silver</td>\n",
       "      <td>12</td>\n",
       "      <td>Hybrid</td>\n",
       "      <td>13328</td>\n",
       "    </tr>\n",
       "    <tr>\n",
       "      <th>1</th>\n",
       "      <td>1</td>\n",
       "      <td>Maruti Suzuki Alto 800</td>\n",
       "      <td>3.25 - 5.12 Lakh</td>\n",
       "      <td>4.2</td>\n",
       "      <td>4.0</td>\n",
       "      <td>3.8</td>\n",
       "      <td>4.2</td>\n",
       "      <td>Black</td>\n",
       "      <td>8</td>\n",
       "      <td>Petrol</td>\n",
       "      <td>16621</td>\n",
       "    </tr>\n",
       "    <tr>\n",
       "      <th>2</th>\n",
       "      <td>2</td>\n",
       "      <td>Renault Kwid</td>\n",
       "      <td>4.70 - 6.45 Lakh</td>\n",
       "      <td>3.5</td>\n",
       "      <td>2.7</td>\n",
       "      <td>3.0</td>\n",
       "      <td>2.3</td>\n",
       "      <td>Black</td>\n",
       "      <td>2</td>\n",
       "      <td>Petrol</td>\n",
       "      <td>8467</td>\n",
       "    </tr>\n",
       "    <tr>\n",
       "      <th>3</th>\n",
       "      <td>3</td>\n",
       "      <td>Maruti Suzuki Alto K10</td>\n",
       "      <td>3.99 - 5.96 Lakh</td>\n",
       "      <td>4.4</td>\n",
       "      <td>4.4</td>\n",
       "      <td>4.4</td>\n",
       "      <td>4.4</td>\n",
       "      <td>White</td>\n",
       "      <td>0</td>\n",
       "      <td>Hybrid</td>\n",
       "      <td>3607</td>\n",
       "    </tr>\n",
       "    <tr>\n",
       "      <th>4</th>\n",
       "      <td>4</td>\n",
       "      <td>Maruti Suzuki Alto 800</td>\n",
       "      <td>3.25 - 5.12 Lakh</td>\n",
       "      <td>4.2</td>\n",
       "      <td>4.0</td>\n",
       "      <td>3.8</td>\n",
       "      <td>4.2</td>\n",
       "      <td>Silver</td>\n",
       "      <td>4</td>\n",
       "      <td>Petrol</td>\n",
       "      <td>11726</td>\n",
       "    </tr>\n",
       "    <tr>\n",
       "      <th>...</th>\n",
       "      <td>...</td>\n",
       "      <td>...</td>\n",
       "      <td>...</td>\n",
       "      <td>...</td>\n",
       "      <td>...</td>\n",
       "      <td>...</td>\n",
       "      <td>...</td>\n",
       "      <td>...</td>\n",
       "      <td>...</td>\n",
       "      <td>...</td>\n",
       "      <td>...</td>\n",
       "    </tr>\n",
       "    <tr>\n",
       "      <th>167</th>\n",
       "      <td>167</td>\n",
       "      <td>BMW i7</td>\n",
       "      <td>1.95 Crore</td>\n",
       "      <td>0.0</td>\n",
       "      <td>0.0</td>\n",
       "      <td>0.0</td>\n",
       "      <td>0.0</td>\n",
       "      <td>White</td>\n",
       "      <td>4</td>\n",
       "      <td>Petrol</td>\n",
       "      <td>20005</td>\n",
       "    </tr>\n",
       "    <tr>\n",
       "      <th>168</th>\n",
       "      <td>168</td>\n",
       "      <td>Land Rover Range Rover Sport</td>\n",
       "      <td>1.64 - 1.84 Crore</td>\n",
       "      <td>0.0</td>\n",
       "      <td>0.0</td>\n",
       "      <td>0.0</td>\n",
       "      <td>0.0</td>\n",
       "      <td>Silver</td>\n",
       "      <td>8</td>\n",
       "      <td>Petrol</td>\n",
       "      <td>36110</td>\n",
       "    </tr>\n",
       "    <tr>\n",
       "      <th>169</th>\n",
       "      <td>169</td>\n",
       "      <td>Aston Martin DBX</td>\n",
       "      <td>3.82 - 4.63 Crore</td>\n",
       "      <td>0.0</td>\n",
       "      <td>0.0</td>\n",
       "      <td>0.0</td>\n",
       "      <td>0.0</td>\n",
       "      <td>Blue</td>\n",
       "      <td>4</td>\n",
       "      <td>Petrol</td>\n",
       "      <td>7840</td>\n",
       "    </tr>\n",
       "    <tr>\n",
       "      <th>170</th>\n",
       "      <td>170</td>\n",
       "      <td>Porsche Macan</td>\n",
       "      <td>88.06 Lakh - 1.53 Crore</td>\n",
       "      <td>0.0</td>\n",
       "      <td>0.0</td>\n",
       "      <td>0.0</td>\n",
       "      <td>0.0</td>\n",
       "      <td>Black</td>\n",
       "      <td>12</td>\n",
       "      <td>Petrol</td>\n",
       "      <td>470</td>\n",
       "    </tr>\n",
       "    <tr>\n",
       "      <th>171</th>\n",
       "      <td>171</td>\n",
       "      <td>BMW XM</td>\n",
       "      <td>2.60 Crore</td>\n",
       "      <td>0.0</td>\n",
       "      <td>0.0</td>\n",
       "      <td>0.0</td>\n",
       "      <td>0.0</td>\n",
       "      <td>Blue</td>\n",
       "      <td>0</td>\n",
       "      <td>Petrol</td>\n",
       "      <td>1300</td>\n",
       "    </tr>\n",
       "  </tbody>\n",
       "</table>\n",
       "<p>172 rows × 11 columns</p>\n",
       "</div>"
      ],
      "text/plain": [
       "     Index                           Car                      Price  \\\n",
       "0        0        Maruti Suzuki Alto K10           3.99 - 5.96 Lakh   \n",
       "1        1        Maruti Suzuki Alto 800           3.25 - 5.12 Lakh   \n",
       "2        2                  Renault Kwid           4.70 - 6.45 Lakh   \n",
       "3        3        Maruti Suzuki Alto K10           3.99 - 5.96 Lakh   \n",
       "4        4        Maruti Suzuki Alto 800           3.25 - 5.12 Lakh   \n",
       "..     ...                           ...                        ...   \n",
       "167    167                        BMW i7                 1.95 Crore   \n",
       "168    168  Land Rover Range Rover Sport          1.64 - 1.84 Crore   \n",
       "169    169              Aston Martin DBX          3.82 - 4.63 Crore   \n",
       "170    170                 Porsche Macan    88.06 Lakh - 1.53 Crore   \n",
       "171    171                        BMW XM                 2.60 Crore   \n",
       "\n",
       "     Overall Rating  Exterior  Interior  Ride Quality   Color  Airbags  \\\n",
       "0               4.4       4.4       4.4           4.4  Silver       12   \n",
       "1               4.2       4.0       3.8           4.2   Black        8   \n",
       "2               3.5       2.7       3.0           2.3   Black        2   \n",
       "3               4.4       4.4       4.4           4.4   White        0   \n",
       "4               4.2       4.0       3.8           4.2  Silver        4   \n",
       "..              ...       ...       ...           ...     ...      ...   \n",
       "167             0.0       0.0       0.0           0.0   White        4   \n",
       "168             0.0       0.0       0.0           0.0  Silver        8   \n",
       "169             0.0       0.0       0.0           0.0    Blue        4   \n",
       "170             0.0       0.0       0.0           0.0   Black       12   \n",
       "171             0.0       0.0       0.0           0.0    Blue        0   \n",
       "\n",
       "    Fuel type  Price.1  \n",
       "0      Hybrid    13328  \n",
       "1      Petrol    16621  \n",
       "2      Petrol     8467  \n",
       "3      Hybrid     3607  \n",
       "4      Petrol    11726  \n",
       "..        ...      ...  \n",
       "167    Petrol    20005  \n",
       "168    Petrol    36110  \n",
       "169    Petrol     7840  \n",
       "170    Petrol      470  \n",
       "171    Petrol     1300  \n",
       "\n",
       "[172 rows x 11 columns]"
      ]
     },
     "execution_count": 8,
     "metadata": {},
     "output_type": "execute_result"
    }
   ],
   "source": [
    "dataset"
   ]
  },
  {
   "cell_type": "code",
   "execution_count": 9,
   "id": "088e1e06-cd1a-4544-a1e3-34616c8f5ed5",
   "metadata": {},
   "outputs": [
    {
     "data": {
      "text/plain": [
       "Index             0\n",
       "Car               0\n",
       "Price             0\n",
       "Overall Rating    0\n",
       "Exterior          0\n",
       "Interior          0\n",
       "Ride Quality      0\n",
       "Color             0\n",
       "Airbags           0\n",
       "Fuel type         0\n",
       "Price.1           0\n",
       "dtype: int64"
      ]
     },
     "execution_count": 9,
     "metadata": {},
     "output_type": "execute_result"
    }
   ],
   "source": [
    "dataset.isnull().sum()"
   ]
  },
  {
   "cell_type": "code",
   "execution_count": 10,
   "id": "9664a41a-68c1-4c6c-b9ac-af0365b54f47",
   "metadata": {},
   "outputs": [
    {
     "name": "stderr",
     "output_type": "stream",
     "text": [
      "C:\\Users\\ragus\\AppData\\Local\\Temp\\ipykernel_2920\\1260227673.py:1: UserWarning: \n",
      "\n",
      "`distplot` is a deprecated function and will be removed in seaborn v0.14.0.\n",
      "\n",
      "Please adapt your code to use either `displot` (a figure-level function with\n",
      "similar flexibility) or `histplot` (an axes-level function for histograms).\n",
      "\n",
      "For a guide to updating your code to use the new functions, please see\n",
      "https://gist.github.com/mwaskom/de44147ed2974457ad6372750bbe5751\n",
      "\n",
      "  sns.distplot(dataset[\"Overall Rating\"])\n",
      "C:\\Users\\ragus\\anaconda3\\Lib\\site-packages\\seaborn\\_oldcore.py:1119: FutureWarning: use_inf_as_na option is deprecated and will be removed in a future version. Convert inf values to NaN before operating instead.\n",
      "  with pd.option_context('mode.use_inf_as_na', True):\n"
     ]
    },
    {
     "data": {
      "text/plain": [
       "<Axes: xlabel='Overall Rating', ylabel='Density'>"
      ]
     },
     "execution_count": 10,
     "metadata": {},
     "output_type": "execute_result"
    },
    {
     "data": {
      "image/png": "[encoded data removed]",
      "text/plain": [
       "<Figure size 640x480 with 1 Axes>"
      ]
     },
     "metadata": {},
     "output_type": "display_data"
    }
   ],
   "source": [
    "sns.distplot(dataset[\"Overall Rating\"])"
   ]
  },
  {
   "cell_type": "code",
   "execution_count": 10,
   "id": "001b98b1-7217-4a8a-8503-33d05ce48fc2",
   "metadata": {},
   "outputs": [],
   "source": [
    "#creat function for (dataset,startrange,endrange)\n",
    "def cal_pdf_probability(dataset,startrange,endrange):\n",
    "    #using 3 libraries mat for creating plots in Python\n",
    "    #scipy for normal distribution \n",
    "    # seaborn for creating a plot to visually \n",
    "    from matplotlib import pyplot\n",
    "    from scipy.stats import norm\n",
    "    import seaborn as sns\n",
    "    #as=asix,sns.displot-for distrubution plot,dataset,kde=kernel density,kde_kwe for plot color blue and green.\n",
    "    ax = sns.distplot(dataset, kde=True, kde_kws={\"color\": \"blue\"}, color=\"green\")\n",
    "    #using lib pyplot.axvline=axisverticalline,(startrang-color=red,endrange-color=red)\n",
    "    pyplot.axvline(startrange,color=\"red\")\n",
    "    pyplot.axvline(endrange,color=\"red\")\n",
    "\n",
    "    #now we apply calcuation for pdf\n",
    "    #sample(pandas dataframe)=variable to dataset\n",
    "    sample=dataset\n",
    "\n",
    "    #variable=samole_mean and sample_std(sample.mean(),sample.std())\n",
    "    sample_mean=sample.mean()\n",
    "    sample_std=sample.std()\n",
    "    print(\"mean%.3f,standard deviation%.3f\"%(sample_mean,sample_std))\n",
    "\n",
    "    #distribution using norm called scipy lib,mean and std for distribution \n",
    "    dist=norm(sample_mean,sample_std)\n",
    "     \n",
    "    #ONE LINEAR FOR LOOP\n",
    "    #list and range in one line value is list,for value in range(60,70)\n",
    "    values=[value for value in range(startrange,endrange)]\n",
    "    #probabilities is creating variable to call distribution (dist.pdf-is function call list (value) and rang for value in values\n",
    "    probabilities=[dist.pdf(value)for value in values]\n",
    "    #summation of probabilities \n",
    "    prob=sum(probabilities)\n",
    "    # #print(\"the are betweent range({60},{70}):{0.3}\".format(startrange,endrange,prob(mean=67,std=10))\n",
    "    print(\"the are betweent range({},{}):{}\".format(startrange,endrange,sum(probabilities)))\n",
    "    return prob"
   ]
  },
  {
   "cell_type": "code",
   "execution_count": 11,
   "id": "14576aa3-7908-4a04-8bb6-da3037cdc6aa",
   "metadata": {},
   "outputs": [
    {
     "name": "stdout",
     "output_type": "stream",
     "text": [
      "mean2.957,standard deviation2.075\n",
      "the are betweent range(10,20):0.0007255821369401404\n"
     ]
    },
    {
     "name": "stderr",
     "output_type": "stream",
     "text": [
      "C:\\Users\\ragus\\AppData\\Local\\Temp\\ipykernel_3804\\593481272.py:10: UserWarning: \n",
      "\n",
      "`distplot` is a deprecated function and will be removed in seaborn v0.14.0.\n",
      "\n",
      "Please adapt your code to use either `displot` (a figure-level function with\n",
      "similar flexibility) or `histplot` (an axes-level function for histograms).\n",
      "\n",
      "For a guide to updating your code to use the new functions, please see\n",
      "https://gist.github.com/mwaskom/de44147ed2974457ad6372750bbe5751\n",
      "\n",
      "  ax = sns.distplot(dataset, kde=True, kde_kws={\"color\": \"blue\"}, color=\"green\")\n",
      "C:\\Users\\ragus\\anaconda3\\Lib\\site-packages\\seaborn\\_oldcore.py:1119: FutureWarning: use_inf_as_na option is deprecated and will be removed in a future version. Convert inf values to NaN before operating instead.\n",
      "  with pd.option_context('mode.use_inf_as_na', True):\n"
     ]
    },
    {
     "data": {
      "text/plain": [
       "0.0007255821369401404"
      ]
     },
     "execution_count": 11,
     "metadata": {},
     "output_type": "execute_result"
    },
    {
     "data": {
      "image/png": "[encoded data removed]",
      "text/plain": [
       "<Figure size 640x480 with 1 Axes>"
      ]
     },
     "metadata": {},
     "output_type": "display_data"
    }
   ],
   "source": [
    "cal_pdf_probability(dataset[\"Overall Rating\"],10,20)"
   ]
  },
  {
   "cell_type": "code",
   "execution_count": 12,
   "id": "107c8180-69fb-4e68-8456-182b6d9a2683",
   "metadata": {},
   "outputs": [
    {
     "data": {
      "text/plain": [
       "1.0"
      ]
     },
     "execution_count": 12,
     "metadata": {},
     "output_type": "execute_result"
    }
   ],
   "source": [
    "from statsmodels.distributions.empirical_distribution import ECDF\n",
    "ecdf = ECDF(dataset[\"Overall Rating\"])\n",
    "ecdf(20)"
   ]
  },
  {
   "cell_type": "code",
   "execution_count": 14,
   "id": "cba3803d-c4ff-45c3-8d58-c4e71afbcfe4",
   "metadata": {},
   "outputs": [],
   "source": [
    "#create function stander_normal_deviation(dataset).\n",
    "def stander_normal_deviation(dataset):\n",
    "    #useing seaborn lib from visual the plot\n",
    "    import seaborn as sns\n",
    "    #calculation mean-variants,std-difference \n",
    "    mean = dataset.mean()\n",
    "    std = dataset.std()\n",
    "    #write one line code for list and for loop\n",
    "    values = [i for i in dataset]\n",
    "    #formula of SND z_score[given value like 2-if mean value is 60/-divide by std-if 10\n",
    "    #j=-5 in values\n",
    "    z_score = [(j - mean) / std for j in values]\n",
    "    #using lib operator of distribution plot (z_score is our ans -5,kde-kernal density =True\n",
    "    sns.distplot(z_score, kde=True)\n",
    "    #summation of z_score=(std),list of values len(z_score)\n",
    "    return sum(z_score)/len(z_score)"
   ]
  },
  {
   "cell_type": "code",
   "execution_count": 15,
   "id": "b0e14a24-d821-4163-996c-0cf46973616d",
   "metadata": {},
   "outputs": [
    {
     "name": "stderr",
     "output_type": "stream",
     "text": [
      "C:\\Users\\ragus\\AppData\\Local\\Temp\\ipykernel_3804\\2581409228.py:14: UserWarning: \n",
      "\n",
      "`distplot` is a deprecated function and will be removed in seaborn v0.14.0.\n",
      "\n",
      "Please adapt your code to use either `displot` (a figure-level function with\n",
      "similar flexibility) or `histplot` (an axes-level function for histograms).\n",
      "\n",
      "For a guide to updating your code to use the new functions, please see\n",
      "https://gist.github.com/mwaskom/de44147ed2974457ad6372750bbe5751\n",
      "\n",
      "  sns.distplot(z_score, kde=True)\n",
      "C:\\Users\\ragus\\anaconda3\\Lib\\site-packages\\seaborn\\_oldcore.py:1119: FutureWarning: use_inf_as_na option is deprecated and will be removed in a future version. Convert inf values to NaN before operating instead.\n",
      "  with pd.option_context('mode.use_inf_as_na', True):\n"
     ]
    },
    {
     "data": {
      "text/plain": [
       "1.4716909861310214e-16"
      ]
     },
     "execution_count": 15,
     "metadata": {},
     "output_type": "execute_result"
    },
    {
     "data": {
      "image/png": "[encoded data removed]",
      "text/plain": [
       "<Figure size 640x480 with 1 Axes>"
      ]
     },
     "metadata": {},
     "output_type": "display_data"
    }
   ],
   "source": [
    "stander_normal_deviation(dataset[\"Overall Rating\"])"
   ]
  },
  {
   "cell_type": "markdown",
   "id": "062495c0-e796-4455-8724-f811abc69eb1",
   "metadata": {},
   "source": [
    "# Null Hypothesis (H0): There is no difference between the means of the two groups being compared. Mathematically, it can be represented as: μ1 - μ2 = 0, where μ1 and μ2 are the population means of the two groups.\n",
    "\n",
    "# Alternative Hypothesis (H1): There is a significant difference between the means of the two groups being compared. Mathematically, it can be represented as: μ1 - μ2 ≠ 0."
   ]
  },
  {
   "cell_type": "markdown",
   "id": "5b0f699a-fea9-441f-9aa1-f5acfe027682",
   "metadata": {},
   "source": [
    "# the p-value is extremely low (close to zero), much smaller than the conventional significance level (e.g., 0.05), we reject the null hypothesis. This indicates that there is strong evidence to suggest that the means of the two groups are significantly different"
   ]
  },
  {
   "cell_type": "code",
   "execution_count": 16,
   "id": "cf57a12f-247d-4d92-8ba6-292801acf512",
   "metadata": {},
   "outputs": [
    {
     "name": "stderr",
     "output_type": "stream",
     "text": [
      "C:\\Users\\ragus\\anaconda3\\Lib\\site-packages\\scipy\\stats\\_axis_nan_policy.py:523: RuntimeWarning: Precision loss occurred in moment calculation due to catastrophic cancellation. This occurs when the data are nearly identical. Results may be unreliable.\n",
      "  res = hypotest_fun_out(*samples, **kwds)\n"
     ]
    },
    {
     "data": {
      "text/plain": [
       "TtestResult(statistic=inf, pvalue=0.0, df=4.0)"
      ]
     },
     "execution_count": 16,
     "metadata": {},
     "output_type": "execute_result"
    }
   ],
   "source": [
    "from scipy.stats import ttest_ind\n",
    "dataset=dataset.dropna()\n",
    "group1 = dataset[dataset[\"Car\"] == \"Maruti Suzuki Alto K10\"][\"Ride Quality\"]\n",
    "group2 = dataset[dataset[\"Car\"] == \"Renault Kwid\"][\"Ride Quality\"]\n",
    "#print(male)\n",
    "ttest_ind(group1, group2)"
   ]
  },
  {
   "cell_type": "code",
   "execution_count": null,
   "id": "9d74dffa-78c6-4f8f-8a5b-2a52a7fdbe01",
   "metadata": {},
   "outputs": [],
   "source": []
  }
 ],
 "metadata": {
  "kernelspec": {
   "display_name": "Python 3 (ipykernel)",
   "language": "python",
   "name": "python3"
  },
  "language_info": {
   "codemirror_mode": {
    "name": "ipython",
    "version": 3
   },
   "file_extension": ".py",
   "mimetype": "text/x-python",
   "name": "python",
   "nbconvert_exporter": "python",
   "pygments_lexer": "ipython3",
   "version": "3.11.5"
  }
 },
 "nbformat": 4,
 "nbformat_minor": 5
}
